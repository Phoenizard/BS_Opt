{
 "cells": [
  {
   "cell_type": "markdown",
   "metadata": {},
   "source": [
    "### 对2018年AMD期货数据收集与处理"
   ]
  },
  {
   "cell_type": "code",
   "execution_count": 32,
   "metadata": {},
   "outputs": [],
   "source": [
    "import pandas as pd\n",
    "import numpy as np"
   ]
  },
  {
   "cell_type": "code",
   "execution_count": 33,
   "metadata": {},
   "outputs": [],
   "source": [
    "path_C_ob = 'real_2018_AMD_sample/C_ob.csv'\n",
    "path_LIBOR = 'real_2018_AMD_sample/LIBOR USD2.csv'\n",
    "path_X = 'real_2018_AMD_sample/strike_price.csv'"
   ]
  },
  {
   "cell_type": "code",
   "execution_count": 34,
   "metadata": {},
   "outputs": [
    {
     "data": {
      "text/html": [
       "<div>\n",
       "<style scoped>\n",
       "    .dataframe tbody tr th:only-of-type {\n",
       "        vertical-align: middle;\n",
       "    }\n",
       "\n",
       "    .dataframe tbody tr th {\n",
       "        vertical-align: top;\n",
       "    }\n",
       "\n",
       "    .dataframe thead th {\n",
       "        text-align: right;\n",
       "    }\n",
       "</style>\n",
       "<table border=\"1\" class=\"dataframe\">\n",
       "  <thead>\n",
       "    <tr style=\"text-align: right;\">\n",
       "      <th></th>\n",
       "      <th>date</th>\n",
       "      <th>close</th>\n",
       "    </tr>\n",
       "  </thead>\n",
       "  <tbody>\n",
       "    <tr>\n",
       "      <th>0</th>\n",
       "      <td>2018-06-19</td>\n",
       "      <td>16.69</td>\n",
       "    </tr>\n",
       "    <tr>\n",
       "      <th>1</th>\n",
       "      <td>2018-06-20</td>\n",
       "      <td>16.52</td>\n",
       "    </tr>\n",
       "    <tr>\n",
       "      <th>2</th>\n",
       "      <td>2018-06-21</td>\n",
       "      <td>15.65</td>\n",
       "    </tr>\n",
       "    <tr>\n",
       "      <th>3</th>\n",
       "      <td>2018-06-22</td>\n",
       "      <td>15.80</td>\n",
       "    </tr>\n",
       "    <tr>\n",
       "      <th>4</th>\n",
       "      <td>2018-06-25</td>\n",
       "      <td>15.11</td>\n",
       "    </tr>\n",
       "  </tbody>\n",
       "</table>\n",
       "</div>"
      ],
      "text/plain": [
       "        date  close\n",
       "0 2018-06-19  16.69\n",
       "1 2018-06-20  16.52\n",
       "2 2018-06-21  15.65\n",
       "3 2018-06-22  15.80\n",
       "4 2018-06-25  15.11"
      ]
     },
     "execution_count": 34,
     "metadata": {},
     "output_type": "execute_result"
    }
   ],
   "source": [
    "C_obs_file = pd.read_csv(path_C_ob)\n",
    "# 调整date格式, 删除ticker和close\n",
    "C_obs_file['date'] = pd.to_datetime(C_obs_file['date'])\n",
    "C_obs_file = C_obs_file.drop(['ticker', 'open'], axis=1)\n",
    "C_obs_file.head()"
   ]
  },
  {
   "cell_type": "code",
   "execution_count": 35,
   "metadata": {},
   "outputs": [
    {
     "data": {
      "text/html": [
       "<div>\n",
       "<style scoped>\n",
       "    .dataframe tbody tr th:only-of-type {\n",
       "        vertical-align: middle;\n",
       "    }\n",
       "\n",
       "    .dataframe tbody tr th {\n",
       "        vertical-align: top;\n",
       "    }\n",
       "\n",
       "    .dataframe thead th {\n",
       "        text-align: right;\n",
       "    }\n",
       "</style>\n",
       "<table border=\"1\" class=\"dataframe\">\n",
       "  <thead>\n",
       "    <tr style=\"text-align: right;\">\n",
       "      <th></th>\n",
       "      <th>date</th>\n",
       "      <th>r</th>\n",
       "    </tr>\n",
       "  </thead>\n",
       "  <tbody>\n",
       "    <tr>\n",
       "      <th>0</th>\n",
       "      <td>2024-08-09</td>\n",
       "      <td>5.44800</td>\n",
       "    </tr>\n",
       "    <tr>\n",
       "      <th>1</th>\n",
       "      <td>2024-08-08</td>\n",
       "      <td>5.44114</td>\n",
       "    </tr>\n",
       "    <tr>\n",
       "      <th>2</th>\n",
       "      <td>2024-08-07</td>\n",
       "      <td>5.43949</td>\n",
       "    </tr>\n",
       "    <tr>\n",
       "      <th>3</th>\n",
       "      <td>2024-08-06</td>\n",
       "      <td>5.40400</td>\n",
       "    </tr>\n",
       "    <tr>\n",
       "      <th>4</th>\n",
       "      <td>2024-08-05</td>\n",
       "      <td>5.44188</td>\n",
       "    </tr>\n",
       "  </tbody>\n",
       "</table>\n",
       "</div>"
      ],
      "text/plain": [
       "        date        r\n",
       "0 2024-08-09  5.44800\n",
       "1 2024-08-08  5.44114\n",
       "2 2024-08-07  5.43949\n",
       "3 2024-08-06  5.40400\n",
       "4 2024-08-05  5.44188"
      ]
     },
     "execution_count": 35,
     "metadata": {},
     "output_type": "execute_result"
    }
   ],
   "source": [
    "LIBOR_file = pd.read_csv(path_LIBOR)\n",
    "# 调整date格式, 保留date和1M\n",
    "LIBOR_file['Date'] = pd.to_datetime(LIBOR_file['Date'])\n",
    "LIBOR_file = LIBOR_file[['Date', '1M']]\n",
    "# Date改为date, 1M改为r\n",
    "r = LIBOR_file.rename(columns={'Date': 'date', '1M': 'r'})\n",
    "r.head()"
   ]
  },
  {
   "cell_type": "code",
   "execution_count": 36,
   "metadata": {},
   "outputs": [
    {
     "data": {
      "text/html": [
       "<div>\n",
       "<style scoped>\n",
       "    .dataframe tbody tr th:only-of-type {\n",
       "        vertical-align: middle;\n",
       "    }\n",
       "\n",
       "    .dataframe tbody tr th {\n",
       "        vertical-align: top;\n",
       "    }\n",
       "\n",
       "    .dataframe thead th {\n",
       "        text-align: right;\n",
       "    }\n",
       "</style>\n",
       "<table border=\"1\" class=\"dataframe\">\n",
       "  <thead>\n",
       "    <tr style=\"text-align: right;\">\n",
       "      <th></th>\n",
       "      <th>date</th>\n",
       "      <th>exdate</th>\n",
       "      <th>strike_price_processed</th>\n",
       "      <th>best_bid</th>\n",
       "      <th>best_offer</th>\n",
       "    </tr>\n",
       "  </thead>\n",
       "  <tbody>\n",
       "    <tr>\n",
       "      <th>0</th>\n",
       "      <td>2018-06-19</td>\n",
       "      <td>2018/7/20</td>\n",
       "      <td>10.0</td>\n",
       "      <td>6.65</td>\n",
       "      <td>6.75</td>\n",
       "    </tr>\n",
       "    <tr>\n",
       "      <th>1</th>\n",
       "      <td>2018-06-19</td>\n",
       "      <td>2018/7/20</td>\n",
       "      <td>10.5</td>\n",
       "      <td>6.15</td>\n",
       "      <td>6.25</td>\n",
       "    </tr>\n",
       "    <tr>\n",
       "      <th>2</th>\n",
       "      <td>2018-06-19</td>\n",
       "      <td>2018/7/20</td>\n",
       "      <td>11.0</td>\n",
       "      <td>5.70</td>\n",
       "      <td>5.75</td>\n",
       "    </tr>\n",
       "    <tr>\n",
       "      <th>3</th>\n",
       "      <td>2018-06-19</td>\n",
       "      <td>2018/7/20</td>\n",
       "      <td>11.5</td>\n",
       "      <td>5.20</td>\n",
       "      <td>5.30</td>\n",
       "    </tr>\n",
       "    <tr>\n",
       "      <th>4</th>\n",
       "      <td>2018-06-19</td>\n",
       "      <td>2018/7/20</td>\n",
       "      <td>12.0</td>\n",
       "      <td>4.70</td>\n",
       "      <td>4.80</td>\n",
       "    </tr>\n",
       "  </tbody>\n",
       "</table>\n",
       "</div>"
      ],
      "text/plain": [
       "        date     exdate  strike_price_processed  best_bid  best_offer\n",
       "0 2018-06-19  2018/7/20                    10.0      6.65        6.75\n",
       "1 2018-06-19  2018/7/20                    10.5      6.15        6.25\n",
       "2 2018-06-19  2018/7/20                    11.0      5.70        5.75\n",
       "3 2018-06-19  2018/7/20                    11.5      5.20        5.30\n",
       "4 2018-06-19  2018/7/20                    12.0      4.70        4.80"
      ]
     },
     "execution_count": 36,
     "metadata": {},
     "output_type": "execute_result"
    }
   ],
   "source": [
    "strick_price_file = pd.read_csv(path_X)\n",
    "# 调整date格式, 保留date, exdate, strike_price_processed\n",
    "strick_price_file['date'] = pd.to_datetime(strick_price_file['date'])\n",
    "# print(strick_price_file.columns)\n",
    "strick_price = strick_price_file[['date', 'exdate', 'strike_price_processed', 'best_bid', 'best_offer']]\n",
    "strick_price.head()"
   ]
  },
  {
   "cell_type": "code",
   "execution_count": 37,
   "metadata": {},
   "outputs": [
    {
     "name": "stdout",
     "output_type": "stream",
     "text": [
      "1986-01-02 00:00:00\n",
      "2024-08-09 00:00:00\n",
      "2018-06-19 00:00:00\n",
      "2018-07-20 00:00:00\n",
      "2018-06-19 00:00:00\n",
      "2018-08-24 00:00:00\n"
     ]
    }
   ],
   "source": [
    "# 查看 r 的日期范围\n",
    "print(r['date'].min())\n",
    "print(r['date'].max())\n",
    "# 查看 strick_price 的日期范围\n",
    "print(strick_price['date'].min())\n",
    "print(strick_price['date'].max())\n",
    "# 查看 C_obs 的日期范围\n",
    "print(C_obs_file['date'].min())\n",
    "print(C_obs_file['date'].max())"
   ]
  },
  {
   "cell_type": "code",
   "execution_count": 38,
   "metadata": {},
   "outputs": [
    {
     "data": {
      "text/plain": [
       "(           date        r\n",
       " 1529 2018-07-20  2.06900\n",
       " 1530 2018-07-19  2.08100\n",
       " 1531 2018-07-18  2.08625\n",
       " 1532 2018-07-17  2.08175\n",
       " 1533 2018-07-16  2.07850,\n",
       "         date     exdate  strike_price_processed  best_bid  best_offer\n",
       " 0 2018-06-19  2018/7/20                    10.0      6.65        6.75\n",
       " 1 2018-06-19  2018/7/20                    10.5      6.15        6.25\n",
       " 2 2018-06-19  2018/7/20                    11.0      5.70        5.75\n",
       " 3 2018-06-19  2018/7/20                    11.5      5.20        5.30\n",
       " 4 2018-06-19  2018/7/20                    12.0      4.70        4.80,\n",
       "         date  close\n",
       " 0 2018-06-19  16.69\n",
       " 1 2018-06-20  16.52\n",
       " 2 2018-06-21  15.65\n",
       " 3 2018-06-22  15.80\n",
       " 4 2018-06-25  15.11)"
      ]
     },
     "execution_count": 38,
     "metadata": {},
     "output_type": "execute_result"
    }
   ],
   "source": [
    "# 筛选出2018-06-19到2018-07-20的数据\n",
    "r = r[(r['date'] >= '2018-06-19') & (r['date'] <= '2018-07-20')]\n",
    "strick_price = strick_price[(strick_price['date'] >= '2018-06-19') & (strick_price['date'] <= '2018-07-20')]\n",
    "C_obs_file = C_obs_file[(C_obs_file['date'] >= '2018-06-19') & (C_obs_file['date'] <= '2018-07-20')]\n",
    "r.head(), strick_price.head(), C_obs_file.head()"
   ]
  },
  {
   "cell_type": "code",
   "execution_count": 39,
   "metadata": {},
   "outputs": [
    {
     "data": {
      "text/html": [
       "<div>\n",
       "<style scoped>\n",
       "    .dataframe tbody tr th:only-of-type {\n",
       "        vertical-align: middle;\n",
       "    }\n",
       "\n",
       "    .dataframe tbody tr th {\n",
       "        vertical-align: top;\n",
       "    }\n",
       "\n",
       "    .dataframe thead th {\n",
       "        text-align: right;\n",
       "    }\n",
       "</style>\n",
       "<table border=\"1\" class=\"dataframe\">\n",
       "  <thead>\n",
       "    <tr style=\"text-align: right;\">\n",
       "      <th></th>\n",
       "      <th>date</th>\n",
       "      <th>r</th>\n",
       "      <th>exdate</th>\n",
       "      <th>strike_price_processed</th>\n",
       "      <th>best_bid</th>\n",
       "      <th>best_offer</th>\n",
       "      <th>close</th>\n",
       "    </tr>\n",
       "  </thead>\n",
       "  <tbody>\n",
       "    <tr>\n",
       "      <th>0</th>\n",
       "      <td>2018-07-20</td>\n",
       "      <td>2.069</td>\n",
       "      <td>2018/8/24</td>\n",
       "      <td>10.0</td>\n",
       "      <td>6.45</td>\n",
       "      <td>6.60</td>\n",
       "      <td>16.5</td>\n",
       "    </tr>\n",
       "    <tr>\n",
       "      <th>1</th>\n",
       "      <td>2018-07-20</td>\n",
       "      <td>2.069</td>\n",
       "      <td>2018/8/24</td>\n",
       "      <td>10.5</td>\n",
       "      <td>5.95</td>\n",
       "      <td>6.10</td>\n",
       "      <td>16.5</td>\n",
       "    </tr>\n",
       "    <tr>\n",
       "      <th>2</th>\n",
       "      <td>2018-07-20</td>\n",
       "      <td>2.069</td>\n",
       "      <td>2018/8/24</td>\n",
       "      <td>11.0</td>\n",
       "      <td>5.45</td>\n",
       "      <td>5.70</td>\n",
       "      <td>16.5</td>\n",
       "    </tr>\n",
       "    <tr>\n",
       "      <th>3</th>\n",
       "      <td>2018-07-20</td>\n",
       "      <td>2.069</td>\n",
       "      <td>2018/8/24</td>\n",
       "      <td>11.5</td>\n",
       "      <td>4.95</td>\n",
       "      <td>5.20</td>\n",
       "      <td>16.5</td>\n",
       "    </tr>\n",
       "    <tr>\n",
       "      <th>4</th>\n",
       "      <td>2018-07-20</td>\n",
       "      <td>2.069</td>\n",
       "      <td>2018/8/24</td>\n",
       "      <td>12.0</td>\n",
       "      <td>4.55</td>\n",
       "      <td>4.65</td>\n",
       "      <td>16.5</td>\n",
       "    </tr>\n",
       "  </tbody>\n",
       "</table>\n",
       "</div>"
      ],
      "text/plain": [
       "        date      r     exdate  strike_price_processed  best_bid  best_offer  \\\n",
       "0 2018-07-20  2.069  2018/8/24                    10.0      6.45        6.60   \n",
       "1 2018-07-20  2.069  2018/8/24                    10.5      5.95        6.10   \n",
       "2 2018-07-20  2.069  2018/8/24                    11.0      5.45        5.70   \n",
       "3 2018-07-20  2.069  2018/8/24                    11.5      4.95        5.20   \n",
       "4 2018-07-20  2.069  2018/8/24                    12.0      4.55        4.65   \n",
       "\n",
       "   close  \n",
       "0   16.5  \n",
       "1   16.5  \n",
       "2   16.5  \n",
       "3   16.5  \n",
       "4   16.5  "
      ]
     },
     "execution_count": 39,
     "metadata": {},
     "output_type": "execute_result"
    }
   ],
   "source": [
    "# 定义data，按日期合并三个dataframe\n",
    "data = pd.merge(r, strick_price, on='date', how='inner')\n",
    "data = pd.merge(data, C_obs_file, on='date', how='inner')\n",
    "# 删除close\n",
    "data.head()"
   ]
  },
  {
   "cell_type": "code",
   "execution_count": 40,
   "metadata": {},
   "outputs": [
    {
     "data": {
      "text/html": [
       "<div>\n",
       "<style scoped>\n",
       "    .dataframe tbody tr th:only-of-type {\n",
       "        vertical-align: middle;\n",
       "    }\n",
       "\n",
       "    .dataframe tbody tr th {\n",
       "        vertical-align: top;\n",
       "    }\n",
       "\n",
       "    .dataframe thead th {\n",
       "        text-align: right;\n",
       "    }\n",
       "</style>\n",
       "<table border=\"1\" class=\"dataframe\">\n",
       "  <thead>\n",
       "    <tr style=\"text-align: right;\">\n",
       "      <th></th>\n",
       "      <th>date</th>\n",
       "      <th>r</th>\n",
       "      <th>exdate</th>\n",
       "      <th>strick_price(X)</th>\n",
       "      <th>option_price(C_bid)</th>\n",
       "      <th>option_price(C_offer)</th>\n",
       "      <th>close</th>\n",
       "      <th>tau(T/365)</th>\n",
       "    </tr>\n",
       "  </thead>\n",
       "  <tbody>\n",
       "    <tr>\n",
       "      <th>0</th>\n",
       "      <td>2018-07-20</td>\n",
       "      <td>2.069</td>\n",
       "      <td>2018-08-24</td>\n",
       "      <td>10.0</td>\n",
       "      <td>6.45</td>\n",
       "      <td>6.60</td>\n",
       "      <td>16.5</td>\n",
       "      <td>0.09589</td>\n",
       "    </tr>\n",
       "    <tr>\n",
       "      <th>1</th>\n",
       "      <td>2018-07-20</td>\n",
       "      <td>2.069</td>\n",
       "      <td>2018-08-24</td>\n",
       "      <td>10.5</td>\n",
       "      <td>5.95</td>\n",
       "      <td>6.10</td>\n",
       "      <td>16.5</td>\n",
       "      <td>0.09589</td>\n",
       "    </tr>\n",
       "    <tr>\n",
       "      <th>2</th>\n",
       "      <td>2018-07-20</td>\n",
       "      <td>2.069</td>\n",
       "      <td>2018-08-24</td>\n",
       "      <td>11.0</td>\n",
       "      <td>5.45</td>\n",
       "      <td>5.70</td>\n",
       "      <td>16.5</td>\n",
       "      <td>0.09589</td>\n",
       "    </tr>\n",
       "    <tr>\n",
       "      <th>3</th>\n",
       "      <td>2018-07-20</td>\n",
       "      <td>2.069</td>\n",
       "      <td>2018-08-24</td>\n",
       "      <td>11.5</td>\n",
       "      <td>4.95</td>\n",
       "      <td>5.20</td>\n",
       "      <td>16.5</td>\n",
       "      <td>0.09589</td>\n",
       "    </tr>\n",
       "    <tr>\n",
       "      <th>4</th>\n",
       "      <td>2018-07-20</td>\n",
       "      <td>2.069</td>\n",
       "      <td>2018-08-24</td>\n",
       "      <td>12.0</td>\n",
       "      <td>4.55</td>\n",
       "      <td>4.65</td>\n",
       "      <td>16.5</td>\n",
       "      <td>0.09589</td>\n",
       "    </tr>\n",
       "  </tbody>\n",
       "</table>\n",
       "</div>"
      ],
      "text/plain": [
       "        date      r     exdate  strick_price(X)  option_price(C_bid)  \\\n",
       "0 2018-07-20  2.069 2018-08-24             10.0                 6.45   \n",
       "1 2018-07-20  2.069 2018-08-24             10.5                 5.95   \n",
       "2 2018-07-20  2.069 2018-08-24             11.0                 5.45   \n",
       "3 2018-07-20  2.069 2018-08-24             11.5                 4.95   \n",
       "4 2018-07-20  2.069 2018-08-24             12.0                 4.55   \n",
       "\n",
       "   option_price(C_offer)  close  tau(T/365)  \n",
       "0                   6.60   16.5     0.09589  \n",
       "1                   6.10   16.5     0.09589  \n",
       "2                   5.70   16.5     0.09589  \n",
       "3                   5.20   16.5     0.09589  \n",
       "4                   4.65   16.5     0.09589  "
      ]
     },
     "execution_count": 40,
     "metadata": {},
     "output_type": "execute_result"
    }
   ],
   "source": [
    "# 将close重命名为option_price(C), 1M重命名为r, strike_price_processed重命名为strick_price(X)\n",
    "data = data.rename(columns={'best_bid': 'option_price(C_bid)', 'best_offer': 'option_price(C_offer)', 'strike_price_processed': 'strick_price(X)'})\n",
    "# 将exdate的日期格式转换为 %Y-%m-%d\n",
    "data['exdate'] = pd.to_datetime(data['exdate'])\n",
    "# 创建新的列，计算tau(T/365)，tau = (exdate - date) / 365\n",
    "data['tau(T/365)'] = (data['exdate'] - data['date']).dt.days / 365\n",
    "data.head()"
   ]
  },
  {
   "cell_type": "code",
   "execution_count": 41,
   "metadata": {},
   "outputs": [],
   "source": [
    "# 保存到文件\n",
    "data.to_csv('real_2018_6_7_AMD_data.csv', index=False)"
   ]
  },
  {
   "cell_type": "markdown",
   "metadata": {},
   "source": [
    "### 数据清洗与检验"
   ]
  },
  {
   "cell_type": "code",
   "execution_count": 42,
   "metadata": {},
   "outputs": [],
   "source": [
    "# 读取文件\n",
    "data = pd.read_csv('real_2018_6_7_AMD_data.csv')\n",
    "C_obs = data['option_price(C_bid)']\n",
    "r = data['r']\n",
    "X = data['strick_price(X)']\n",
    "T = data['tau(T/365)']"
   ]
  },
  {
   "cell_type": "code",
   "execution_count": 43,
   "metadata": {},
   "outputs": [
    {
     "data": {
      "text/plain": [
       "Text(0.5, 1.0, 'C_obs and X')"
      ]
     },
     "execution_count": 43,
     "metadata": {},
     "output_type": "execute_result"
    },
    {
     "data": {
      "image/png": "[encoded data removed]",
      "text/plain": [
       "<Figure size 640x480 with 1 Axes>"
      ]
     },
     "metadata": {},
     "output_type": "display_data"
    }
   ],
   "source": [
    "# 绘制C_obs和X的散点图\n",
    "import matplotlib.pyplot as plt\n",
    "plt.scatter(X, C_obs)\n",
    "plt.xlabel('X')\n",
    "plt.ylabel('C_obs')\n",
    "plt.title('C_obs and X')"
   ]
  }
 ],
 "metadata": {
  "kernelspec": {
   "display_name": "NumericalMethod",
   "language": "python",
   "name": "python3"
  },
  "language_info": {
   "codemirror_mode": {
    "name": "ipython",
    "version": 3
   },
   "file_extension": ".py",
   "mimetype": "text/x-python",
   "name": "python",
   "nbconvert_exporter": "python",
   "pygments_lexer": "ipython3",
   "version": "3.11.9"
  }
 },
 "nbformat": 4,
 "nbformat_minor": 2
}
